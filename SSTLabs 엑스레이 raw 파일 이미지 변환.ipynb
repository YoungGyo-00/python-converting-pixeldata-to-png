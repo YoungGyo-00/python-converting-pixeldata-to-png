{
 "cells": [
  {
   "cell_type": "markdown",
   "id": "8e03a30d",
   "metadata": {},
   "source": [
    "### converting pixeldata to png (수정 필요)\n",
    "\n",
    "0) 3D 엑스레이 장비 데이터용\n",
    "\n",
    "1) 작업 폴더 복사\n",
    "\n",
    "2) 복사한 폴더에 image 폴더 생성\n",
    "\n",
    "3) image 폴더에 이미지 파일 저장\n",
    "\n",
    "4) 이미지 변환 완료 후 binary 폴더 삭제\n",
    "\n",
    "5) 파일 이름 변경"
   ]
  },
  {
   "cell_type": "code",
   "execution_count": 10,
   "id": "f3c4dd79",
   "metadata": {},
   "outputs": [],
   "source": [
    "import shutil\n",
    "import cv2\n",
    "import os\n",
    "import numpy as np\n",
    "import pandas as pd\n",
    "import natsort"
   ]
  },
  {
   "cell_type": "code",
   "execution_count": null,
   "id": "91921574",
   "metadata": {},
   "outputs": [],
   "source": [
    "df = pd.read_excel('C:\\\\Users\\\\user\\\\Desktop\\\\국토부과제_2차년도_엑스레이 이미지 데이터 DB_ver0.1.xlsx')\n",
    "\n",
    "dir_working = 'C:\\\\Users\\\\user\\\\Desktop\\\\raw data\\\\round 11' # 촬영 데이터가 모여져 있는 폴더 경로\n",
    "\n",
    "i = 4338\n",
    "\n",
    "dir_working_copy = dir_working + '\\\\이미지 변환'\n",
    "\n",
    "if not os.path.exists(dir_working_copy):\n",
    "    shutil.copytree(dir_working, dir_working_copy) # 원본 폴더(dir_working)는 보관용으로 남기고, copy 폴더를 생성하여 작업.\n",
    "\n",
    "filelist = os.listdir(dir_working_copy)\n",
    "\n",
    "for file in filelist:\n",
    "    os.chdir(dir_working_copy)\n",
    "    # read image as binary\n",
    "    read_binary = open(dir_working_copy+'/'+file,\"rb\")\n",
    "    img = np.fromfile(read_binary, dtype = 'uint16', sep = \"\", count = (896*760), offset = 0) # dtype, count는 상황에 맞게 수정 필요\n",
    "    read_binary.close()\n",
    "\n",
    "    img = np.reshape(img, [760,896]) # 810 -> height, 896 -> width\n",
    "\n",
    "    markfile = df.values[i][-1] + '.png'\n",
    "    cv2.imwrite(markfile, img)\n",
    "    os.chdir(dir_working_copy)\n",
    "\n",
    "    print(file)\n",
    "    print(markfile)\n",
    "\n",
    "    i = i + 1\n",
    "\n",
    "    if os.path.exists(dir_working_copy + '/' + file):\n",
    "        os.remove(dir_working_copy +'/'+ file) # 이미지 변환이 끝난 raw 파일은 필요 없으므로 삭제함.\n",
    "        \n"
   ]
  },
  {
   "cell_type": "code",
   "execution_count": 35,
   "id": "d49e7ad3",
   "metadata": {},
   "outputs": [],
   "source": [
    "# 실사 이미지 이름 변경\n",
    "\n",
    "df = pd.read_excel('C:\\\\Users\\\\user\\\\Desktop\\\\국토부과제_2차년도_엑스레이 이미지 데이터 DB_ver0.1.xlsx')\n",
    "\n",
    "dir_working = 'C:\\\\Users\\\\user\\\\Desktop\\\\실사이미지\\\\Round 11'\n",
    "\n",
    "filelist = os.listdir(dir_working)\n",
    "\n",
    "filelist = natsort.natsorted(filelist)\n",
    "\n",
    "for file in filelist:\n",
    "    newname = df.values[9 * (int(file.split(\".\")[0]) - 1)][-1][:-2]\n",
    "    os.rename(dir_working + \"/\" + file, dir_working + \"/\" + newname + \".jpg\")"
   ]
  },
  {
   "cell_type": "code",
   "execution_count": null,
   "id": "09430f9d",
   "metadata": {},
   "outputs": [],
   "source": []
  }
 ],
 "metadata": {
  "kernelspec": {
   "display_name": "Python 3 (ipykernel)",
   "language": "python",
   "name": "python3"
  },
  "language_info": {
   "codemirror_mode": {
    "name": "ipython",
    "version": 3
   },
   "file_extension": ".py",
   "mimetype": "text/x-python",
   "name": "python",
   "nbconvert_exporter": "python",
   "pygments_lexer": "ipython3",
   "version": "3.9.7"
  }
 },
 "nbformat": 4,
 "nbformat_minor": 5
}
