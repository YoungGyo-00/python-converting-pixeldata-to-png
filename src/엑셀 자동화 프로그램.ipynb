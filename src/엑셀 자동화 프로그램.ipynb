{
 "cells": [
  {
   "cell_type": "markdown",
   "metadata": {},
   "source": [
    "## 크롤링 물품 리스트 자동화 프로그램\n",
    "### 요청 사항\n",
    "- 물품 품목이 같은 것들을 묶어서 최대 200개까지 작성\n",
    "- 카테고리 중 다이소 매장 물품인 품목을 우선적으로 선별\n",
    "- 물품은 가격 순으로 정렬\n",
    "- 상품 사진 추가\n",
    "- 10만 원 이하의 물품만 선정"
   ]
  },
  {
   "cell_type": "code",
   "execution_count": 76,
   "metadata": {},
   "outputs": [],
   "source": [
    "from openpyxl import Workbook\n",
    "import pandas as pd\n",
    "from io import BytesIO\n",
    "from openpyxl.drawing.image import Image\n",
    "import requests\n",
    "import numpy as np\n",
    "\n",
    "FILE_NAME = 'C:\\\\Users\\\\user\\\\Desktop\\\\크롤링 결과\\\\일반물품\\\\동물용품\\\\촬영 대상 물품 분류체계_v0.1_권혁진_다이소몰 크롤링 결과_동물용품_텍스트.xlsx'\n",
    "\n",
    "wb = Workbook()\n",
    "ws = wb.active\n",
    "df = pd.read_excel(FILE_NAME, header=None)\n",
    "\n",
    "def init(): \n",
    "    ws.append(['물품분류', '물품코드', '물품종', '순번', '상품번호', '카테고리', '상품명', '상품사진', '가격', '링크']) # 한 줄씩 넣기 위해서 만듬\n",
    "    ws.column_dimensions['H'].width = 50 # 사진 담길 위치의 셀 행 크기 조절\n",
    "\n",
    "def image(url, no): # 이미지 삽입 함수\n",
    "    res = requests.get(url)\n",
    "    image_data = BytesIO(res.content)\n",
    "    img = Image(image_data)\n",
    "    ws.add_image(img, anchor='H%s' %no)\n",
    "\n",
    "def insert(start, data): # data -> index 가 담긴 리스트\n",
    "    j = start\n",
    "    for i in data:\n",
    "        ws.row_dimensions[j].height = 200 # 셀의 높이 조정\n",
    "        image(df[7][i], j)\n",
    "        ws.append([df[0][i], df[1][i], df[2][i], df[3][i], df[4][i], df[5][i], df[6][i], '', df[8][i], df[9][i]])\n",
    "        print(df[0][i], df[1][i], df[2][i], df[3][i], df[4][i], df[5][i], df[6][i], df[8][i], df[9][i])\n",
    "        j = j + 1\n",
    "    return j\n",
    "\n",
    "# 특정 물품분류 항목 배열 가져오기\n",
    "init()\n",
    "\n",
    "result = list(np.unique(df[0]))\n",
    "result.remove('물품분류')\n",
    "\n",
    "start = 2 # 셀 높이 조정할 때 사용하는 변수\n",
    "\n",
    "for temp in result:\n",
    "    stuff = df.loc[df[0] == temp] # 물품목록에 해당하는 데이터 추출\n",
    "\n",
    "    stuff_1 = stuff[stuff[5].str.contains('다이소')]\n",
    "    stuff_2 = stuff[~stuff[5].str.contains('다이소')]\n",
    "\n",
    "    # 정렬하는 플로우\n",
    "    stuff_1 = stuff_1.sort_values(by=8, ascending=True)\n",
    "    stuff_2 = stuff_2.sort_values(by=8, ascending=True)\n",
    "\n",
    "    data = pd.concat([stuff_1, stuff_2])\n",
    "\n",
    "    data = data.loc[data[8] < 100000]\n",
    "\n",
    "    data = data.index.to_list()\n",
    "\n",
    "    if (len(data) > 200):\n",
    "        data = data[:200] # 200 개까지만 자르기\n",
    "\n",
    "    start = insert(start, data) # 엑셀에 집어 넣기\n",
    "\n",
    "wb.save('C:\\\\Users\\\\user\\\\Desktop\\\\result')"
   ]
  }
 ],
 "metadata": {
  "kernelspec": {
   "display_name": "Python 3.9.12 ('base')",
   "language": "python",
   "name": "python3"
  },
  "language_info": {
   "codemirror_mode": {
    "name": "ipython",
    "version": 3
   },
   "file_extension": ".py",
   "mimetype": "text/x-python",
   "name": "python",
   "nbconvert_exporter": "python",
   "pygments_lexer": "ipython3",
   "version": "3.9.12"
  },
  "orig_nbformat": 4,
  "vscode": {
   "interpreter": {
    "hash": "a077222d77dfe082b8f1dd562ad70e458ac2ab76993a0b248ab0476e32e9e8dd"
   }
  }
 },
 "nbformat": 4,
 "nbformat_minor": 2
}
