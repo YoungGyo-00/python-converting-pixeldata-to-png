{
 "cells": [
  {
   "cell_type": "code",
   "execution_count": null,
   "metadata": {},
   "outputs": [],
   "source": [
    "# 트레이 디텍션 (엑스레이 이미지)\n",
    "\n",
    "import cv2\n",
    "import matplotlib.pyplot as plt\n",
    "import numpy as np\n",
    "\n",
    "# 이미지 불러오기\n",
    "img = cv2.imread('test.png', cv2.IMREAD_COLOR)\n",
    "\n",
    "print(img.shape)\n",
    "\n",
    "# 이미지 그레이 변환\n",
    "gray = cv2.cvtColor(img, cv2.COLOR_BGR2GRAY)\n",
    "blur = cv2.GaussianBlur(gray, ksize=(5,5), sigmaX=0)\n",
    "redlalwlt, th1 = cv2.threshold(blur, 150, 255, cv2.THRESH_BINARY_INV)\n",
    "binary = cv2.bitwise_not(th1)\n",
    "\n",
    "contours, hierarchy = cv2.findContours(th1, cv2.RETR_EXTERNAL, cv2.CHAIN_APPROX_NONE)\n",
    "contours_xy = np.array(contours)\n",
    "\n",
    "value = list()\n",
    "\n",
    "for i in range(len(contours_xy)) :\n",
    "    for j in range(len(contours_xy[i])):\n",
    "        value.append(contours_xy[i][j][0][1])\n",
    "\n",
    "y_min, y_max = min(value), max(value)\n",
    "\n",
    "if (max(value) > 800):\n",
    "    y_max = 800\n",
    "\n",
    "\n",
    "print(y_max, y_min)\n",
    "\n",
    "for i in range(len(contours)):\n",
    "    cv2.drawContours(img, [contours[i]], 0, (0, 0, 255), 2)\n",
    "    \n",
    "cv2.imshow('image', img)\n",
    "cv2.waitKey(0)\n",
    "cv2.destroyAllWindows()"
   ]
  },
  {
   "cell_type": "code",
   "execution_count": null,
   "metadata": {},
   "outputs": [],
   "source": [
    "# Canny 윤곽선 검출 -> 윤곽선 정확함 0\n",
    "import cv2\n",
    "\n",
    "img_gray = cv2.imread('a_5.png', cv2.IMREAD_GRAYSCALE)\n",
    "cv2.imshow(\"Original\", img_gray)\n",
    "\n",
    "img_canny = cv2.Canny(img_gray, 50, 150)\n",
    "cv2.imshow(\"Canny Edge\", img_canny)\n",
    "\n",
    "print(img_canny)\n",
    "\n",
    "cv2.waitKey(0)\n",
    "cv2.destroyAllWindows()"
   ]
  },
  {
   "cell_type": "code",
   "execution_count": null,
   "metadata": {},
   "outputs": [],
   "source": [
    "# 트랙바\n",
    "def nothing():\n",
    "    pass\n",
    "\n",
    "img_gray = cv2.imread('a_2.png', cv2.IMREAD_GRAYSCALE)\n",
    "\n",
    "cv2.namedWindow(\"Canny Edge\")\n",
    "cv2.createTrackbar('low threshold', 'Canny Edge', 0, 1000, nothing)\n",
    "cv2.createTrackbar('high threshold', 'Canny Edge', 0, 1000, nothing)\n",
    "\n",
    "cv2.setTrackbarPos('low threshold', 'Canny Edge', 50)\n",
    "cv2.setTrackbarPos('high threshold', 'Canny Edge', 150)\n",
    "\n",
    "cv2.imshow(\"Original\", img_gray)\n",
    "\n",
    "while True:\n",
    "    low = cv2.getTrackbarPos('low threshold', 'Canny Edge')\n",
    "    high = cv2.getTrackbarPos('high threshold', 'Canny Edge')\n",
    "\n",
    "    img_canny = cv2.Canny(img_gray, low, high)\n",
    "    cv2.imshow(\"Canny Edge\", img_canny)\n",
    "\n",
    "    if cv2.waitKey(1)&0xFF == 27:\n",
    "        break\n",
    "\n",
    "cv2.destroyAllWindows()"
   ]
  }
 ],
 "metadata": {
  "interpreter": {
   "hash": "a077222d77dfe082b8f1dd562ad70e458ac2ab76993a0b248ab0476e32e9e8dd"
  },
  "kernelspec": {
   "display_name": "Python 3.9.7 ('base')",
   "language": "python",
   "name": "python3"
  },
  "language_info": {
   "codemirror_mode": {
    "name": "ipython",
    "version": 3
   },
   "file_extension": ".py",
   "mimetype": "text/x-python",
   "name": "python",
   "nbconvert_exporter": "python",
   "pygments_lexer": "ipython3",
   "version": "3.9.12"
  },
  "orig_nbformat": 4
 },
 "nbformat": 4,
 "nbformat_minor": 2
}
