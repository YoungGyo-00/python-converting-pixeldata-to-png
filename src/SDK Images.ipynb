{
 "cells": [
  {
   "cell_type": "markdown",
   "metadata": {},
   "source": [
    "### Superb AI Suite(Python SDK) 사용법 정리"
   ]
  },
  {
   "cell_type": "code",
   "execution_count": 1,
   "metadata": {},
   "outputs": [
    {
     "name": "stdout",
     "output_type": "stream",
     "text": [
      "This version: v0.9.0\n"
     ]
    }
   ],
   "source": [
    "import spb.sdk\n",
    "print(f'This version: v{spb.sdk.__version__}')"
   ]
  },
  {
   "cell_type": "code",
   "execution_count": 21,
   "metadata": {},
   "outputs": [
    {
     "name": "stdout",
     "output_type": "stream",
     "text": [
      "Project Name: XGDN_2022_X-ray data\n",
      "Total numberr of data: 2123\n"
     ]
    }
   ],
   "source": [
    "client = spb.sdk.Client(project_name='XGDN_2022_X-ray data')\n",
    "\n",
    "print('Project Name: {}'.format(client.get_project_name()))\n",
    "print('Total numberr of data: {}'.format(client.get_num_data()))"
   ]
  },
  {
   "cell_type": "code",
   "execution_count": 22,
   "metadata": {},
   "outputs": [],
   "source": [
    "IMAGE_DIR = 'C:\\\\Users\\\\user\\\\Desktop\\\\raw data\\\\Round 5\\\\Round 5\\\\*.png'\n",
    "DATASET = 'XGDN_2022_X-ray data'\n",
    "\n",
    "import glob\n",
    "import os"
   ]
  },
  {
   "cell_type": "code",
   "execution_count": null,
   "metadata": {},
   "outputs": [],
   "source": [
    "file = list(glob.glob(IMAGE_DIR))\n",
    "file # 파일 경로 하나 예시"
   ]
  },
  {
   "cell_type": "markdown",
   "metadata": {},
   "source": [
    "### upload Images"
   ]
  },
  {
   "cell_type": "code",
   "execution_count": 24,
   "metadata": {},
   "outputs": [],
   "source": [
    "for image_path in glob.glob(IMAGE_DIR):\n",
    "    image_name = os.path.basename(image_path) # 경로 중 파일명만 읽기\n",
    "    client.upload_image(image_path, DATASET, key=image_name) # key 값이 같으면 업로드 불가"
   ]
  },
  {
   "cell_type": "markdown",
   "metadata": {},
   "source": [
    "### Check uploaded Images"
   ]
  },
  {
   "cell_type": "code",
   "execution_count": null,
   "metadata": {},
   "outputs": [],
   "source": [
    "def get_data(dataset, page_size=10):\n",
    "    num_data = client.get_num_data(dataset=dataset)\n",
    "    print(f'# of images in {DATASET}: {num_data}')\n",
    "    print(f'# of pages in {DATASET}: {page_size}')\n",
    "    num_pages = (num_data + page_size -1) // page_size\n",
    "    for page_idx in range(num_pages):\n",
    "        for data_handler in client.get_data_page(page_idx=page_idx, page_size=page_size, dataset=dataset):\n",
    "            # print(data_handler.get_key())\n",
    "            yield data_handler\n",
    "\n",
    "uploaded_data = {}\n",
    "for data_handler in get_data(DATASET):\n",
    "    dataset = data_handler.get_dataset_name()\n",
    "    data_key = data_handler.get_key()\n",
    "    uploaded_data[(dataset, data_key)] = data_handler\n",
    "\n",
    "print(list(uploaded_data.keys()))"
   ]
  },
  {
   "cell_type": "markdown",
   "metadata": {},
   "source": [
    "### 특정 data_key 검색 방법"
   ]
  },
  {
   "cell_type": "code",
   "execution_count": null,
   "metadata": {},
   "outputs": [],
   "source": [
    "try:\n",
    "    data_handler = next(client.get_data_page(page_idx=0, page_size=1, dataset=DATASET, data_key='A133134000000MT0020002SH.jpg'))\n",
    "except StopIteration:\n",
    "    print(\"데이터 존재하지 않음\")\n",
    "else:\n",
    "    print(f'{data_handler.get_dataset_name()}, {data_handler.get_key()}')"
   ]
  },
  {
   "cell_type": "code",
   "execution_count": null,
   "metadata": {},
   "outputs": [],
   "source": [
    "images = {}\n",
    "for data_handler in get_data(DATASET):\n",
    "    dataset = data_handler.get_dataset_name()\n",
    "    data_key = data_handler.get_key()\n",
    "    images[(dataset, data_key)] = data_handler\n",
    "\n",
    "import random\n",
    "from PIL import Image\n",
    "from IPython.display import display\n",
    "import requests\n",
    "data_handler = random.choice(list(images.values()))\n",
    "print(data_handler.get_key())\n",
    "image_url = data_handler.get_image_url()\n",
    "img = Image.open(requests.get(image_url, stream=True).raw)\n",
    "display(img)"
   ]
  },
  {
   "cell_type": "code",
   "execution_count": null,
   "metadata": {},
   "outputs": [],
   "source": [
    "# 일괄 업로드(superb ai)\n",
    "\n",
    "import spb.sdk\n",
    "import glob\n",
    "import os\n",
    "\n",
    "client = spb.sdk.Client(project_name='XGDN_2022_X-ray data')\n",
    "DATASET = 'XGDN_2022_X-ray data'\n",
    "\n",
    "for i in range(0, 12):\n",
    "    IMAGE_DIR = 'C:\\\\Users\\\\user\\\\Desktop\\\\raw data\\\\Round ' + str(i)+ '\\\\Round ' + str(i) + '\\\\*.png'\n",
    "    print(IMAGE_DIR)\n",
    "    \n",
    "    j = 0\n",
    "    for image_path in glob.glob(IMAGE_DIR):\n",
    "        print(j, end=\",\")\n",
    "        image_name = os.path.basename(image_path) # 경로 중 파일명만 읽기\n",
    "        client.upload_image(image_path, DATASET, key=image_name) # key 값이 같으면 업로드 불가\n",
    "        j = j+ 1\n",
    "    print()"
   ]
  }
 ],
 "metadata": {
  "kernelspec": {
   "display_name": "Python 3.9.12 ('base')",
   "language": "python",
   "name": "python3"
  },
  "language_info": {
   "codemirror_mode": {
    "name": "ipython",
    "version": 3
   },
   "file_extension": ".py",
   "mimetype": "text/x-python",
   "name": "python",
   "nbconvert_exporter": "python",
   "pygments_lexer": "ipython3",
   "version": "3.9.12"
  },
  "orig_nbformat": 4,
  "vscode": {
   "interpreter": {
    "hash": "a077222d77dfe082b8f1dd562ad70e458ac2ab76993a0b248ab0476e32e9e8dd"
   }
  }
 },
 "nbformat": 4,
 "nbformat_minor": 2
}
